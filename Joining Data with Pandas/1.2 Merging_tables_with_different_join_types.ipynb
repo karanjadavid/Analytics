{
 "cells": [
  {
   "cell_type": "markdown",
   "metadata": {},
   "source": [
    "# Merging tables with different join types"
   ]
  },
  {
   "cell_type": "markdown",
   "metadata": {},
   "source": [
    "## 1.1 Left join\n",
    "A left join returns all rows from the left table and only those rows from the right table where key columns match. \n",
    "\n",
    "Left join syntax:\n",
    "\n",
    "df1_df2 = df1.merge(df2, on = \"common_column\", how = \"left\")\n",
    "\n",
    " A left join will return all of the rows from the left table. If those rows in the left table match multiple rows in the right table, then all of those rows will be returned. Therefore, the returned rows must be equal to if not greater than the left table. \n"
   ]
  },
  {
   "cell_type": "markdown",
   "metadata": {},
   "source": [
    "## 1.2 Right join\n",
    "\n",
    "A right join returns all rows from the right table and includes only those rows from the left table that have matching values. It is the mirror opposite of the left join. \n",
    "\n",
    "If the common columns in the two tables have different column names, we introduce two arguments. left_on and right_on\n",
    "\n",
    "Right join syntax:\n",
    "\n",
    "df1_df2 = df1.merge(df2, how = \"right\", left_on = \"common_column_name\", right_on = \"common_column_name\")\n"
   ]
  },
  {
   "cell_type": "markdown",
   "metadata": {},
   "source": [
    "## 1.3 Outer join\n",
    "An outer join returns all the rows from both tables regardless if there is a match between the tables.\n",
    "\n",
    "Outer join syntax:\n",
    " \n",
    "df1_df2 = df1.merge(df2, on = \"common_column\", how = \"outer\", suffixes = (\"_tab1\", \"_tab2\"))\n"
   ]
  },
  {
   "cell_type": "markdown",
   "metadata": {},
   "source": [
    "## 1.4 Self join\n",
    "\n",
    "Merging a table to itself. By dafult, it is an inner join but we can use other types of joins too eg, left join.\n",
    "Useful when you want to compare values in a column to other values in the same column.\n",
    "\n",
    "You are likely to merge a table with itself\n",
    "1. When working with tables that have a hierachical relationship. Eg, employee and manager.\n",
    "\n",
    "2. On sequential relationships such as logistic movements.\n",
    "\n",
    "3. Graph data such as network of friends.\n",
    "\n",
    "\n"
   ]
  },
  {
   "cell_type": "markdown",
   "metadata": {},
   "source": [
    "We have a table crews that contains data about members working to produce a film.\n",
    "Use a self join to differenciate the people working under different directors under each movie."
   ]
  },
  {
   "cell_type": "markdown",
   "metadata": {},
   "source": []
  },
  {
   "cell_type": "code",
   "execution_count": 1,
   "metadata": {},
   "outputs": [],
   "source": [
    "# import libraries\n",
    "import pandas as pd"
   ]
  },
  {
   "cell_type": "code",
   "execution_count": 2,
   "metadata": {},
   "outputs": [],
   "source": [
    "# load the dataframe\n",
    "crews = pd.read_pickle(\"crews.p\")"
   ]
  },
  {
   "cell_type": "code",
   "execution_count": 3,
   "metadata": {},
   "outputs": [
    {
     "data": {
      "text/html": [
       "<div>\n",
       "<style scoped>\n",
       "    .dataframe tbody tr th:only-of-type {\n",
       "        vertical-align: middle;\n",
       "    }\n",
       "\n",
       "    .dataframe tbody tr th {\n",
       "        vertical-align: top;\n",
       "    }\n",
       "\n",
       "    .dataframe thead th {\n",
       "        text-align: right;\n",
       "    }\n",
       "</style>\n",
       "<table border=\"1\" class=\"dataframe\">\n",
       "  <thead>\n",
       "    <tr style=\"text-align: right;\">\n",
       "      <th></th>\n",
       "      <th>id</th>\n",
       "      <th>department</th>\n",
       "      <th>job</th>\n",
       "      <th>name</th>\n",
       "    </tr>\n",
       "  </thead>\n",
       "  <tbody>\n",
       "    <tr>\n",
       "      <th>0</th>\n",
       "      <td>19995</td>\n",
       "      <td>Editing</td>\n",
       "      <td>Editor</td>\n",
       "      <td>Stephen E. Rivkin</td>\n",
       "    </tr>\n",
       "    <tr>\n",
       "      <th>2</th>\n",
       "      <td>19995</td>\n",
       "      <td>Sound</td>\n",
       "      <td>Sound Designer</td>\n",
       "      <td>Christopher Boyes</td>\n",
       "    </tr>\n",
       "    <tr>\n",
       "      <th>4</th>\n",
       "      <td>19995</td>\n",
       "      <td>Production</td>\n",
       "      <td>Casting</td>\n",
       "      <td>Mali Finn</td>\n",
       "    </tr>\n",
       "    <tr>\n",
       "      <th>6</th>\n",
       "      <td>19995</td>\n",
       "      <td>Directing</td>\n",
       "      <td>Director</td>\n",
       "      <td>James Cameron</td>\n",
       "    </tr>\n",
       "    <tr>\n",
       "      <th>7</th>\n",
       "      <td>19995</td>\n",
       "      <td>Writing</td>\n",
       "      <td>Writer</td>\n",
       "      <td>James Cameron</td>\n",
       "    </tr>\n",
       "  </tbody>\n",
       "</table>\n",
       "</div>"
      ],
      "text/plain": [
       "      id  department             job               name\n",
       "0  19995     Editing          Editor  Stephen E. Rivkin\n",
       "2  19995       Sound  Sound Designer  Christopher Boyes\n",
       "4  19995  Production         Casting          Mali Finn\n",
       "6  19995   Directing        Director      James Cameron\n",
       "7  19995     Writing          Writer      James Cameron"
      ]
     },
     "execution_count": 3,
     "metadata": {},
     "output_type": "execute_result"
    }
   ],
   "source": [
    "# view the head\n",
    "crews.head()"
   ]
  },
  {
   "cell_type": "code",
   "execution_count": 4,
   "metadata": {},
   "outputs": [
    {
     "name": "stdout",
     "output_type": "stream",
     "text": [
      "<class 'pandas.core.frame.DataFrame'>\n",
      "Int64Index: 42502 entries, 0 to 129580\n",
      "Data columns (total 4 columns):\n",
      " #   Column      Non-Null Count  Dtype \n",
      "---  ------      --------------  ----- \n",
      " 0   id          42502 non-null  int64 \n",
      " 1   department  42502 non-null  object\n",
      " 2   job         42502 non-null  object\n",
      " 3   name        42502 non-null  object\n",
      "dtypes: int64(1), object(3)\n",
      "memory usage: 1.6+ MB\n"
     ]
    }
   ],
   "source": [
    "# inspect the dataframe information\n",
    "crews.info()"
   ]
  },
  {
   "cell_type": "code",
   "execution_count": 5,
   "metadata": {},
   "outputs": [
    {
     "data": {
      "text/html": [
       "<div>\n",
       "<style scoped>\n",
       "    .dataframe tbody tr th:only-of-type {\n",
       "        vertical-align: middle;\n",
       "    }\n",
       "\n",
       "    .dataframe tbody tr th {\n",
       "        vertical-align: top;\n",
       "    }\n",
       "\n",
       "    .dataframe thead th {\n",
       "        text-align: right;\n",
       "    }\n",
       "</style>\n",
       "<table border=\"1\" class=\"dataframe\">\n",
       "  <thead>\n",
       "    <tr style=\"text-align: right;\">\n",
       "      <th></th>\n",
       "      <th>id</th>\n",
       "      <th>department_dir</th>\n",
       "      <th>job_dir</th>\n",
       "      <th>name_dir</th>\n",
       "      <th>department_crew</th>\n",
       "      <th>job_crew</th>\n",
       "      <th>name_crew</th>\n",
       "    </tr>\n",
       "  </thead>\n",
       "  <tbody>\n",
       "    <tr>\n",
       "      <th>0</th>\n",
       "      <td>19995</td>\n",
       "      <td>Editing</td>\n",
       "      <td>Editor</td>\n",
       "      <td>Stephen E. Rivkin</td>\n",
       "      <td>Editing</td>\n",
       "      <td>Editor</td>\n",
       "      <td>Stephen E. Rivkin</td>\n",
       "    </tr>\n",
       "    <tr>\n",
       "      <th>1</th>\n",
       "      <td>19995</td>\n",
       "      <td>Editing</td>\n",
       "      <td>Editor</td>\n",
       "      <td>Stephen E. Rivkin</td>\n",
       "      <td>Sound</td>\n",
       "      <td>Sound Designer</td>\n",
       "      <td>Christopher Boyes</td>\n",
       "    </tr>\n",
       "    <tr>\n",
       "      <th>2</th>\n",
       "      <td>19995</td>\n",
       "      <td>Editing</td>\n",
       "      <td>Editor</td>\n",
       "      <td>Stephen E. Rivkin</td>\n",
       "      <td>Production</td>\n",
       "      <td>Casting</td>\n",
       "      <td>Mali Finn</td>\n",
       "    </tr>\n",
       "    <tr>\n",
       "      <th>3</th>\n",
       "      <td>19995</td>\n",
       "      <td>Editing</td>\n",
       "      <td>Editor</td>\n",
       "      <td>Stephen E. Rivkin</td>\n",
       "      <td>Directing</td>\n",
       "      <td>Director</td>\n",
       "      <td>James Cameron</td>\n",
       "    </tr>\n",
       "    <tr>\n",
       "      <th>4</th>\n",
       "      <td>19995</td>\n",
       "      <td>Editing</td>\n",
       "      <td>Editor</td>\n",
       "      <td>Stephen E. Rivkin</td>\n",
       "      <td>Writing</td>\n",
       "      <td>Writer</td>\n",
       "      <td>James Cameron</td>\n",
       "    </tr>\n",
       "  </tbody>\n",
       "</table>\n",
       "</div>"
      ],
      "text/plain": [
       "      id department_dir job_dir           name_dir department_crew  \\\n",
       "0  19995        Editing  Editor  Stephen E. Rivkin         Editing   \n",
       "1  19995        Editing  Editor  Stephen E. Rivkin           Sound   \n",
       "2  19995        Editing  Editor  Stephen E. Rivkin      Production   \n",
       "3  19995        Editing  Editor  Stephen E. Rivkin       Directing   \n",
       "4  19995        Editing  Editor  Stephen E. Rivkin         Writing   \n",
       "\n",
       "         job_crew          name_crew  \n",
       "0          Editor  Stephen E. Rivkin  \n",
       "1  Sound Designer  Christopher Boyes  \n",
       "2         Casting          Mali Finn  \n",
       "3        Director      James Cameron  \n",
       "4          Writer      James Cameron  "
      ]
     },
     "execution_count": 5,
     "metadata": {},
     "output_type": "execute_result"
    }
   ],
   "source": [
    "# To a variable called crews_self_merged, merge the crews table to itself on the id column using an inner join, \n",
    "# setting the suffixes to '_dir' and '_crew' for the left and right tables respectively.\n",
    "\n",
    "crews_self_merged = crews.merge(crews, left_on = \"id\", right_on = \"id\", suffixes = (\"_dir\", \"_crew\"))\n",
    "crews_self_merged.head()"
   ]
  },
  {
   "cell_type": "code",
   "execution_count": 6,
   "metadata": {},
   "outputs": [
    {
     "data": {
      "text/html": [
       "<div>\n",
       "<style scoped>\n",
       "    .dataframe tbody tr th:only-of-type {\n",
       "        vertical-align: middle;\n",
       "    }\n",
       "\n",
       "    .dataframe tbody tr th {\n",
       "        vertical-align: top;\n",
       "    }\n",
       "\n",
       "    .dataframe thead th {\n",
       "        text-align: right;\n",
       "    }\n",
       "</style>\n",
       "<table border=\"1\" class=\"dataframe\">\n",
       "  <thead>\n",
       "    <tr style=\"text-align: right;\">\n",
       "      <th></th>\n",
       "      <th>id</th>\n",
       "      <th>department_dir</th>\n",
       "      <th>job_dir</th>\n",
       "      <th>name_dir</th>\n",
       "      <th>department_crew</th>\n",
       "      <th>job_crew</th>\n",
       "      <th>name_crew</th>\n",
       "    </tr>\n",
       "  </thead>\n",
       "  <tbody>\n",
       "    <tr>\n",
       "      <th>156</th>\n",
       "      <td>19995</td>\n",
       "      <td>Directing</td>\n",
       "      <td>Director</td>\n",
       "      <td>James Cameron</td>\n",
       "      <td>Editing</td>\n",
       "      <td>Editor</td>\n",
       "      <td>Stephen E. Rivkin</td>\n",
       "    </tr>\n",
       "    <tr>\n",
       "      <th>157</th>\n",
       "      <td>19995</td>\n",
       "      <td>Directing</td>\n",
       "      <td>Director</td>\n",
       "      <td>James Cameron</td>\n",
       "      <td>Sound</td>\n",
       "      <td>Sound Designer</td>\n",
       "      <td>Christopher Boyes</td>\n",
       "    </tr>\n",
       "    <tr>\n",
       "      <th>158</th>\n",
       "      <td>19995</td>\n",
       "      <td>Directing</td>\n",
       "      <td>Director</td>\n",
       "      <td>James Cameron</td>\n",
       "      <td>Production</td>\n",
       "      <td>Casting</td>\n",
       "      <td>Mali Finn</td>\n",
       "    </tr>\n",
       "    <tr>\n",
       "      <th>160</th>\n",
       "      <td>19995</td>\n",
       "      <td>Directing</td>\n",
       "      <td>Director</td>\n",
       "      <td>James Cameron</td>\n",
       "      <td>Writing</td>\n",
       "      <td>Writer</td>\n",
       "      <td>James Cameron</td>\n",
       "    </tr>\n",
       "    <tr>\n",
       "      <th>161</th>\n",
       "      <td>19995</td>\n",
       "      <td>Directing</td>\n",
       "      <td>Director</td>\n",
       "      <td>James Cameron</td>\n",
       "      <td>Art</td>\n",
       "      <td>Set Designer</td>\n",
       "      <td>Richard F. Mays</td>\n",
       "    </tr>\n",
       "  </tbody>\n",
       "</table>\n",
       "</div>"
      ],
      "text/plain": [
       "        id department_dir   job_dir       name_dir department_crew  \\\n",
       "156  19995      Directing  Director  James Cameron         Editing   \n",
       "157  19995      Directing  Director  James Cameron           Sound   \n",
       "158  19995      Directing  Director  James Cameron      Production   \n",
       "160  19995      Directing  Director  James Cameron         Writing   \n",
       "161  19995      Directing  Director  James Cameron             Art   \n",
       "\n",
       "           job_crew          name_crew  \n",
       "156          Editor  Stephen E. Rivkin  \n",
       "157  Sound Designer  Christopher Boyes  \n",
       "158         Casting          Mali Finn  \n",
       "160          Writer      James Cameron  \n",
       "161    Set Designer    Richard F. Mays  "
      ]
     },
     "execution_count": 6,
     "metadata": {},
     "output_type": "execute_result"
    }
   ],
   "source": [
    "# Create a Boolean index, named boolean_filter, that selects rows from the left table with the job of 'Director'\n",
    "#  and avoids rows with the job of 'Director' in the right table.\n",
    "\n",
    "boolean_filter = ((crews_self_merged[\"job_dir\"] == \"Director\") & (crews_self_merged[\"job_crew\"] != \"Director\"))\n",
    "direct_crews = crews_self_merged[boolean_filter]\n",
    "direct_crews.head()\n",
    "\n",
    "# With the output, you can quickly see different movie directors and the people they worked with in the same movie."
   ]
  },
  {
   "cell_type": "markdown",
   "metadata": {},
   "source": [
    "## 1.5 Merging on indexes"
   ]
  },
  {
   "cell_type": "markdown",
   "metadata": {},
   "source": [
    "Often, DataFrame indexes are given a unique id that we can use when merging two tables together. The default 0 1 2 3 4 5 .......\n",
    "\n",
    "You can set columns as index when importing a file eg, index_col[\"id\"]\n",
    "### 1.5.1 Merging on a single index\n",
    "df1_df2 = df1.merge(df2, on = \"index_column\", how = \"left\")\n",
    "\n",
    "### 1.5.2 Merging on a multiIndex\n",
    "df1_df2 = df1.merge(df2, on = [\"index_col1\", \"index_col2\"])\n",
    "\n",
    "### 1.5.3 Index merge with left_on and right_on\n",
    "happens if the index names are different between the two tables that we want to merge. since we are merging on indexes, we need to set the left_index and right_index to True. They tell the merge method to use the separate indexes.\n",
    "\n",
    "df1_df2 = df1.merge(df2, left_on = \"df1_index_name\", left_index = True, right_on = \"df2_index_name\", right_index = True)\n"
   ]
  }
 ],
 "metadata": {
  "interpreter": {
   "hash": "75ad312d56b57ecee6a222ec0ae03d73b80d9c3b7d5194eecdf37627bf3eb328"
  },
  "kernelspec": {
   "display_name": "Python 3.9.7 ('base')",
   "language": "python",
   "name": "python3"
  },
  "language_info": {
   "codemirror_mode": {
    "name": "ipython",
    "version": 3
   },
   "file_extension": ".py",
   "mimetype": "text/x-python",
   "name": "python",
   "nbconvert_exporter": "python",
   "pygments_lexer": "ipython3",
   "version": "3.9.7"
  },
  "orig_nbformat": 4
 },
 "nbformat": 4,
 "nbformat_minor": 2
}
