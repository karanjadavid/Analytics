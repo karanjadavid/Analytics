{
 "cells": [
  {
   "cell_type": "markdown",
   "metadata": {},
   "source": [
    "# Advanced merging and concatenating"
   ]
  },
  {
   "cell_type": "markdown",
   "metadata": {},
   "source": [
    "## 1.1 Filtering joins\n",
    "Filtering joins filter observations from one table based on whether or not they match an observation in another table.\n",
    "\n",
    "### Semi join\n",
    "\n",
    "A semi join filters the left table down to those observations that have a match in the right table. It is similar to an inner join where only the intersection between the tables is returned, but unlike an inner join only the columns from the left table are shown.\n",
    "No duplicates from the left table are returned, even if there is a one to many relationship.\n",
    "\n",
    "\n",
    "steps in a semi join\n",
    "1. merge the left and right tables on key column using an inner join\n",
    "2. search if the key column in the left table is in thr merged table using the .isin( ) method creating a boolean series\n",
    "3. Subset the rows of the left table.  \n",
    "\n",
    "\n",
    "\n",
    "### Anti join \n",
    "\n",
    "An anti join returns the observations in the left table that do not have a matching observation on the right table. It only returns columns from the left table and not the right table.\n",
    "\n",
    "\n",
    "steps in an anti join\n",
    "1. use a left join returning all rows from the left table. set the indicator argument to true. The indicator argument adds a column called _merge to the output. _merge tells the source of each row.\n",
    "2. Use the loc accessor and _merge column to select the rows that only appear in the left table.\n",
    "3. use thr .isin( ) method to filter rows\n",
    "\n",
    "\n"
   ]
  },
  {
   "cell_type": "markdown",
   "metadata": {},
   "source": [
    "Anti join example\n",
    "\n",
    "In our music streaming company dataset, each customer is assigned an employee representative to assist them.Filter the employee table by a table of top customers, returning only those employees who are not assigned to a customer. \n",
    "\n",
    "employees.columns  ['srid', 'lname', 'fname', 'title', 'hire_date', 'email']\n",
    "\n",
    "top_cust.columns   ['cid', 'srid', 'fname', 'lname', 'phone', 'fax', 'email']\n",
    "\n",
    "\n",
    "1. Merge employees and top_cust\n",
    "\n",
    "empl_cust = employees.merge(top_cust, on='srid', how='left', indicator=True)\n",
    "\n",
    "2. Select the srid column where _merge is left_only\n",
    "\n",
    "srid_list = empl_cust.loc[empl_cust['_merge'] == 'left_only', 'srid']\n",
    "\n",
    "3. Get employees not working with top customers\n",
    "\n",
    "print(employees[employees['srid'].isin(srid_list)])"
   ]
  },
  {
   "cell_type": "markdown",
   "metadata": {},
   "source": [
    "A semi join example\n",
    "\n",
    "Some of the tracks that have generated the most significant amount of revenue are from TV-shows or are other non-musical audio. You have been given a table of invoices that include top revenue-generating items. Additionally, you have a table of non-musical tracks from the streaming service. In this exercise, you'll use a semi join to find the top revenue-generating non-musical tracks..\n",
    "\n",
    "\n",
    "non_mus_tcks.columns   ['tid', 'name', 'aid', 'mtid', 'gid', 'u_price']\n",
    "\n",
    "top_invoices.columns   ['ilid', 'iid', 'tid', 'uprice', 'quantity']\n",
    "\n",
    "genres.columns   ['gid', 'name']\n",
    "\n",
    "\n",
    "1. Merge the non_mus_tck and top_invoices tables on tid\n",
    "\n",
    "tracks_invoices = non_mus_tcks.merge(top_invoices, on = 'tid')\n",
    "\n",
    "2. Use .isin() to subset non_mus_tcks to rows with tid in tracks_invoices\n",
    "\n",
    "top_tracks = non_mus_tcks[non_mus_tcks['tid'].isin(top_invoices['tid'])]\n",
    "\n",
    "3. Group the top_tracks by gid and count the tid rows\n",
    "\n",
    "cnt_by_gid = top_tracks.groupby(['gid'], as_index=False).agg({'tid':'count'})\n",
    "\n",
    "4. Merge the genres table to cnt_by_gid on gid and print\n",
    "\n",
    "print(cnt_by_gid.merge(genres, on = 'gid'))\n"
   ]
  },
  {
   "cell_type": "markdown",
   "metadata": {},
   "source": [
    "## 1.2 Concatenate dataframes vertically\n"
   ]
  },
  {
   "cell_type": "markdown",
   "metadata": {},
   "source": [
    "### The .concat( ) method\n",
    "pd.concat([df1, df2, df3])\n",
    "\n",
    "1. ignore_index = True. sets the index from 0 to n-1\n",
    "\n",
    "pd.concat([df1, df2, df3], ignore_index=True)\n",
    "\n",
    "2. setting labels to original tables \n",
    "\n",
    "pd.concat([df1, df2, df3], ignore_index=False, keys=[\"name1\", \"name2\", \"name3\"])\n",
    "\n",
    "3. concatenate tables with different column names\n",
    "\n",
    "The concat method by default will include all of the tables in the different tables it is combining. The sort argument if true, will alphabetically sort the different column names in the result\n",
    "\n",
    "pd.concat([df1, df2], sort=True)\n",
    "\n",
    "4. concatenate only matching columns, set the  join to inner. By default, concat is set to outer which is why it includes all the columns.\n",
    "\n",
    "pd.concat([df1, df2], join = \"inner\")\n",
    "\n",
    "\n",
    "### The append( ) method\n",
    "\n",
    "It is a simplified concat method. It supports the ignore_index and sort argument. However, it does not support keys and join. Join is always set to outer.\n",
    "\n",
    "\n",
    "df.append([df1, df2], ignore_index=True, sort=True)\n"
   ]
  },
  {
   "cell_type": "markdown",
   "metadata": {},
   "source": [
    "## 1.3 Verifying integrity"
   ]
  },
  {
   "cell_type": "markdown",
   "metadata": {},
   "source": [
    "### validating merges\n",
    ".merge(validate = None)\n",
    "\n",
    ".merge(validate = \"one_to_one\")\n",
    "\n",
    ".merge(validate = \"one_to_many\")\n",
    "\n",
    ".merge(validate = \"many_to_one\")\n",
    "\n",
    ".merge(validate = \"many_to_many\")\n",
    "\n",
    "\n",
    "Eg. \n",
    "\n",
    "df1.merge(df2, on = \"common_column\", validate = \"one_to_one\")\n",
    "\n",
    "\n",
    "### verify concatenation\n",
    "By default, .concat(verify_integriy=False)\n",
    "If set to true, it will check if there are duplicate values in the index and raise an error if there are.\n",
    "\n",
    "Eg.\n",
    "\n",
    "pd.concat([df1, df2], verify_integrity=True)\n"
   ]
  }
 ],
 "metadata": {
  "interpreter": {
   "hash": "75ad312d56b57ecee6a222ec0ae03d73b80d9c3b7d5194eecdf37627bf3eb328"
  },
  "kernelspec": {
   "display_name": "Python 3.9.7 ('base')",
   "language": "python",
   "name": "python3"
  },
  "language_info": {
   "name": "python",
   "version": "3.9.7"
  },
  "orig_nbformat": 4
 },
 "nbformat": 4,
 "nbformat_minor": 2
}
