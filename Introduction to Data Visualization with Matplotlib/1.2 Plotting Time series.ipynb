{
 "cells": [
  {
   "cell_type": "markdown",
   "metadata": {},
   "source": [
    "# Plotting time series"
   ]
  },
  {
   "cell_type": "markdown",
   "metadata": {},
   "source": [
    "## 1.1 Plotting time series data\n",
    "Visualizations of time series are an excellent tool to detect patterns in the data.  \n",
    "\n",
    "If you want pandas to recognize your dataframe as a time series, parse the date column as a date. Then designate the date column as the index."
   ]
  },
  {
   "cell_type": "code",
   "execution_count": 1,
   "metadata": {},
   "outputs": [],
   "source": [
    "# load libraries\n",
    "import matplotlib.pyplot as plt\n",
    "import pandas as pd"
   ]
  },
  {
   "cell_type": "markdown",
   "metadata": {},
   "source": [
    "#### 1.1.1 Read data with a time index"
   ]
  },
  {
   "cell_type": "code",
   "execution_count": 6,
   "metadata": {},
   "outputs": [
    {
     "data": {
      "text/html": [
       "<div>\n",
       "<style scoped>\n",
       "    .dataframe tbody tr th:only-of-type {\n",
       "        vertical-align: middle;\n",
       "    }\n",
       "\n",
       "    .dataframe tbody tr th {\n",
       "        vertical-align: top;\n",
       "    }\n",
       "\n",
       "    .dataframe thead th {\n",
       "        text-align: right;\n",
       "    }\n",
       "</style>\n",
       "<table border=\"1\" class=\"dataframe\">\n",
       "  <thead>\n",
       "    <tr style=\"text-align: right;\">\n",
       "      <th></th>\n",
       "      <th>co2</th>\n",
       "      <th>relative_temp</th>\n",
       "    </tr>\n",
       "    <tr>\n",
       "      <th>date</th>\n",
       "      <th></th>\n",
       "      <th></th>\n",
       "    </tr>\n",
       "  </thead>\n",
       "  <tbody>\n",
       "    <tr>\n",
       "      <th>1958-03-06</th>\n",
       "      <td>315.71</td>\n",
       "      <td>0.10</td>\n",
       "    </tr>\n",
       "    <tr>\n",
       "      <th>1958-04-06</th>\n",
       "      <td>317.45</td>\n",
       "      <td>0.01</td>\n",
       "    </tr>\n",
       "    <tr>\n",
       "      <th>1958-05-06</th>\n",
       "      <td>317.50</td>\n",
       "      <td>0.08</td>\n",
       "    </tr>\n",
       "    <tr>\n",
       "      <th>1958-06-06</th>\n",
       "      <td>NaN</td>\n",
       "      <td>-0.05</td>\n",
       "    </tr>\n",
       "    <tr>\n",
       "      <th>1958-07-06</th>\n",
       "      <td>315.86</td>\n",
       "      <td>0.06</td>\n",
       "    </tr>\n",
       "    <tr>\n",
       "      <th>...</th>\n",
       "      <td>...</td>\n",
       "      <td>...</td>\n",
       "    </tr>\n",
       "    <tr>\n",
       "      <th>2016-08-06</th>\n",
       "      <td>402.27</td>\n",
       "      <td>0.98</td>\n",
       "    </tr>\n",
       "    <tr>\n",
       "      <th>2016-09-06</th>\n",
       "      <td>401.05</td>\n",
       "      <td>0.87</td>\n",
       "    </tr>\n",
       "    <tr>\n",
       "      <th>2016-10-06</th>\n",
       "      <td>401.59</td>\n",
       "      <td>0.89</td>\n",
       "    </tr>\n",
       "    <tr>\n",
       "      <th>2016-11-06</th>\n",
       "      <td>403.55</td>\n",
       "      <td>0.93</td>\n",
       "    </tr>\n",
       "    <tr>\n",
       "      <th>2016-12-06</th>\n",
       "      <td>404.45</td>\n",
       "      <td>0.81</td>\n",
       "    </tr>\n",
       "  </tbody>\n",
       "</table>\n",
       "<p>706 rows × 2 columns</p>\n",
       "</div>"
      ],
      "text/plain": [
       "               co2  relative_temp\n",
       "date                             \n",
       "1958-03-06  315.71           0.10\n",
       "1958-04-06  317.45           0.01\n",
       "1958-05-06  317.50           0.08\n",
       "1958-06-06     NaN          -0.05\n",
       "1958-07-06  315.86           0.06\n",
       "...            ...            ...\n",
       "2016-08-06  402.27           0.98\n",
       "2016-09-06  401.05           0.87\n",
       "2016-10-06  401.59           0.89\n",
       "2016-11-06  403.55           0.93\n",
       "2016-12-06  404.45           0.81\n",
       "\n",
       "[706 rows x 2 columns]"
      ]
     },
     "execution_count": 6,
     "metadata": {},
     "output_type": "execute_result"
    }
   ],
   "source": [
    "# load the dataframe\n",
    "climate_change = pd.read_csv('climate_change.csv', parse_dates=['date'], index_col='date')\n",
    "climate_change\n"
   ]
  },
  {
   "cell_type": "code",
   "execution_count": 7,
   "metadata": {},
   "outputs": [
    {
     "name": "stdout",
     "output_type": "stream",
     "text": [
      "<class 'pandas.core.frame.DataFrame'>\n",
      "DatetimeIndex: 706 entries, 1958-03-06 to 2016-12-06\n",
      "Data columns (total 2 columns):\n",
      " #   Column         Non-Null Count  Dtype  \n",
      "---  ------         --------------  -----  \n",
      " 0   co2            699 non-null    float64\n",
      " 1   relative_temp  706 non-null    float64\n",
      "dtypes: float64(2)\n",
      "memory usage: 16.5 KB\n"
     ]
    }
   ],
   "source": [
    "climate_change.info()"
   ]
  },
  {
   "cell_type": "markdown",
   "metadata": {},
   "source": [
    "#### 1.1.2 Plot time-series data\n",
    "\n",
    "To plot time-series data, we use the Axes object plot command. The first argument to this method are the values for the x-axis and the second argument are the values for the y-axis."
   ]
  },
  {
   "cell_type": "code",
   "execution_count": 8,
   "metadata": {},
   "outputs": [
    {
     "data": {
      "image/png": "[encoded data removed]",
      "text/plain": [
       "<Figure size 432x288 with 1 Axes>"
      ]
     },
     "metadata": {
      "needs_background": "light"
     },
     "output_type": "display_data"
    }
   ],
   "source": [
    "# create a figure and an axes with plt.subplots\n",
    "fig, ax = plt.subplots()\n",
    "\n",
    "# Add the time-series for \"relative_temp\" to the plot\n",
    "ax.plot(climate_change.index, climate_change['relative_temp'])\n",
    "\n",
    "# Set the x-axis label\n",
    "ax.set_xlabel('Time')\n",
    "\n",
    "# Set the y-axis label\n",
    "ax.set_ylabel('Relative temperature (Celsius)')\n",
    "\n",
    "# Show the figure\n",
    "plt.show()\n"
   ]
  },
  {
   "cell_type": "markdown",
   "metadata": {},
   "source": [
    "#### 1.1.3 Using a time index to zoom in"
   ]
  },
  {
   "cell_type": "markdown",
   "metadata": {},
   "source": [
    "When a time-series is represented with a time index, we can use this index for the x-axis when plotting. We can also select a to zoom in on a particular period within the time-series using Pandas' indexing facilities."
   ]
  },
  {
   "cell_type": "code",
   "execution_count": 11,
   "metadata": {},
   "outputs": [
    {
     "data": {
      "image/png": "[encoded data removed]",
      "text/plain": [
       "<Figure size 432x288 with 1 Axes>"
      ]
     },
     "metadata": {
      "needs_background": "light"
     },
     "output_type": "display_data"
    }
   ],
   "source": [
    "# Use plt.subplots to create fig and ax\n",
    "fig, ax = plt.subplots()\n",
    "\n",
    "# Create variable seventies with data from \"1970-01-01\" to \"1979-12-31\"\n",
    "seventies = climate_change[\"1970-01-01\" : \"1979-12-31\"]\n",
    "\n",
    "# Add the time-series for \"co2\" data from seventies to the plot\n",
    "ax.plot(seventies.index, seventies[\"co2\"])\n",
    "\n",
    "# Show the figure\n",
    "plt.show()"
   ]
  },
  {
   "cell_type": "markdown",
   "metadata": {},
   "source": [
    "## 1.2 Plotting time series with different variables.\n",
    "#### 1.2.1 plotting two time series together\n",
    "\n",
    "1. Using twin axes\n",
    "You can plot different variables in the same subplot using two different y-axis scales.Start by adding the first variable to your axes. then use the twinx method to create a twin of this axes\n",
    "\n",
    "ax2 = ax.twinx()\n",
    "\n",
    "This means that the two axes share the same x axis but the y-axes are separate. Add the other variable to the second axes object and show the figure. \n",
    "\n",
    "2. Separate variables by color.\n",
    "Encode each one with a different color. add color to the first variable ax.plot()using the color keyword argument. Also to its \n",
    "\n",
    "ax.set_ylabel(). \n",
    "\n",
    "Repeat this to the twin axes object with a different color.\n",
    "\n",
    "3. coloring the ticks\n",
    "Add color to the y-axis ticks and y-axis tick labels. This is done by adding a call to the\n",
    "\n",
    " ax.tick_params('y', colors = 'blue'). \n",
    " \n",
    " This method takes either y or x as its first argument. Add it to the twin axes.\n",
    "\n",
    "\n",
    "\n",
    "\n",
    "\n",
    "\n",
    "\n",
    "\n"
   ]
  },
  {
   "cell_type": "markdown",
   "metadata": {},
   "source": [
    "#### 1.2.3 Functions for time series data\n",
    "\n",
    "\n",
    "def plot_timeseries(axes, x, y, color, xlabel, ylabel)\n",
    "\n",
    "    axes.plot(x, y, color = color)\n",
    "\n",
    "    axes.set_xlabel(xlabel)\n",
    "\n",
    "    axes.set_ylabel(ylabel, color = color)\n",
    "    \n",
    "    axes.ticks_params('y', color = color)"
   ]
  },
  {
   "cell_type": "code",
   "execution_count": null,
   "metadata": {},
   "outputs": [],
   "source": []
  }
 ],
 "metadata": {
  "interpreter": {
   "hash": "75ad312d56b57ecee6a222ec0ae03d73b80d9c3b7d5194eecdf37627bf3eb328"
  },
  "kernelspec": {
   "display_name": "Python 3.9.7 ('base')",
   "language": "python",
   "name": "python3"
  },
  "language_info": {
   "codemirror_mode": {
    "name": "ipython",
    "version": 3
   },
   "file_extension": ".py",
   "mimetype": "text/x-python",
   "name": "python",
   "nbconvert_exporter": "python",
   "pygments_lexer": "ipython3",
   "version": "3.9.7"
  },
  "orig_nbformat": 4
 },
 "nbformat": 4,
 "nbformat_minor": 2
}
